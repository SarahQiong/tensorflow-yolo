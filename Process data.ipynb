{
 "cells": [
  {
   "cell_type": "code",
   "execution_count": 1,
   "metadata": {
    "collapsed": true
   },
   "outputs": [],
   "source": [
    "import os\n",
    "import xml.etree.ElementTree as ET\n",
    "import struct\n",
    "import numpy as np\n",
    "import re\n",
    "import cv2"
   ]
  },
  {
   "cell_type": "code",
   "execution_count": 2,
   "metadata": {
    "collapsed": true
   },
   "outputs": [],
   "source": [
    "classes_name =  [\"bare land\", \"red tree\", \"dead tree\", \"down tree\", \"yellow tree\", \"pine tree\"]\n",
    "\n",
    "classes_num = {\"bare land\": 0, \"red tree\": 1, \"dead tree\": 2, \"down tree\": 3, \"yellow tree\": 4, \"pine tree\": 5}"
   ]
  },
  {
   "cell_type": "code",
   "execution_count": 3,
   "metadata": {
    "collapsed": true
   },
   "outputs": [],
   "source": [
    "YOLO_ROOT = os.path.abspath('./')\n",
    "DATA_PATH = os.path.join(YOLO_ROOT, 'data/AerialTree/')\n",
    "OUTPUT_PATH = os.path.join(YOLO_ROOT, 'data/processed_data/')"
   ]
  },
  {
   "cell_type": "code",
   "execution_count": 4,
   "metadata": {
    "collapsed": true
   },
   "outputs": [],
   "source": [
    "tree = ET.parse(DATA_PATH+'D1019020028.xml')"
   ]
  },
  {
   "cell_type": "code",
   "execution_count": 5,
   "metadata": {
    "collapsed": false
   },
   "outputs": [],
   "source": [
    "xml_list = [i for i in os.listdir(DATA_PATH) if i[-3:]=='xml']"
   ]
  },
  {
   "cell_type": "code",
   "execution_count": 6,
   "metadata": {
    "collapsed": false
   },
   "outputs": [
    {
     "data": {
      "text/plain": [
       "['D1019020111.xml',\n",
       " 'D1019020114.xml',\n",
       " 'D1019020149.xml',\n",
       " 'D1019020153.xml',\n",
       " 'D1019020198.xml',\n",
       " 'D1019020087.xml',\n",
       " 'D1019020183.xml',\n",
       " 'D1019020028.xml',\n",
       " 'D1019020081.xml',\n",
       " 'D1019020180.xml',\n",
       " 'D1019020030.xml',\n",
       " 'D1019020177.xml',\n",
       " 'D1019020186.xml',\n",
       " 'D1019020122.xml',\n",
       " 'D1019020192.xml',\n",
       " 'D1019020157.xml',\n",
       " 'D1019020144.xml',\n",
       " 'D1019020125.xml',\n",
       " 'D1019020161.xml',\n",
       " 'D1019020137.xml',\n",
       " 'D1019020083.xml',\n",
       " 'D1019020085.xml',\n",
       " 'D1019020133.xml',\n",
       " 'D1019020141.xml',\n",
       " 'D1019020131.xml',\n",
       " 'D1019020120.xml',\n",
       " 'D1019020146.xml',\n",
       " 'D1019020117.xml',\n",
       " 'D1019020097.xml',\n",
       " 'D1019020173.xml',\n",
       " 'D1019020089.xml',\n",
       " 'D1019020128.xml',\n",
       " 'D1019020201.xml',\n",
       " 'D1019020078.xml',\n",
       " 'D1019020189.xml']"
      ]
     },
     "execution_count": 6,
     "metadata": {},
     "output_type": "execute_result"
    }
   ],
   "source": [
    "xml_list"
   ]
  },
  {
   "cell_type": "code",
   "execution_count": 7,
   "metadata": {
    "collapsed": false
   },
   "outputs": [],
   "source": [
    "object_list = []"
   ]
  },
  {
   "cell_type": "code",
   "execution_count": 8,
   "metadata": {
    "collapsed": false
   },
   "outputs": [],
   "source": [
    "for xml_file in xml_list:\n",
    "    tree = ET.parse(DATA_PATH+xml_file)\n",
    "    root = tree.getroot()\n",
    "    for item in root:\n",
    "        if item.tag == 'object':\n",
    "            object_list.append(int(item[0].text))"
   ]
  },
  {
   "cell_type": "code",
   "execution_count": 9,
   "metadata": {
    "collapsed": false
   },
   "outputs": [],
   "source": [
    "temp = np.asarray(object_list)\n"
   ]
  },
  {
   "cell_type": "code",
   "execution_count": 10,
   "metadata": {
    "collapsed": false
   },
   "outputs": [],
   "source": [
    "import matplotlib.pyplot as plt\n",
    "%matplotlib inline"
   ]
  },
  {
   "cell_type": "code",
   "execution_count": 11,
   "metadata": {
    "collapsed": true
   },
   "outputs": [],
   "source": [
    "x = np.arange(6)\n",
    "y = [sum(temp==i) for i in x]"
   ]
  },
  {
   "cell_type": "code",
   "execution_count": 12,
   "metadata": {
    "collapsed": false
   },
   "outputs": [
    {
     "data": {
      "text/plain": [
       "<Container object of 6 artists>"
      ]
     },
     "execution_count": 12,
     "metadata": {},
     "output_type": "execute_result"
    },
    {
     "data": {
      "image/png": "[encoded data removed]",
      "text/plain": [
       "<matplotlib.figure.Figure at 0x7f14544b45f8>"
      ]
     },
     "metadata": {},
     "output_type": "display_data"
    }
   ],
   "source": [
    "plt.bar(x, y)"
   ]
  },
  {
   "cell_type": "code",
   "execution_count": 13,
   "metadata": {
    "collapsed": false
   },
   "outputs": [],
   "source": [
    "width = []\n",
    "height = []\n",
    "for xml_file in xml_list:\n",
    "    tree = ET.parse(DATA_PATH+xml_file)\n",
    "    root = tree.getroot()\n",
    "    for item in root:\n",
    "        if item.tag == 'object' and item[0].text in ['0','1']:\n",
    "            for it in item:\n",
    "                if it.tag == 'bndbox':\n",
    "                    width.append(int(it[2].text)-int(it[0].text))\n",
    "                    height.append(int(it[3].text)-int(it[1].text))\n",
    "                    "
   ]
  },
  {
   "cell_type": "code",
   "execution_count": 14,
   "metadata": {
    "collapsed": false
   },
   "outputs": [
    {
     "data": {
      "text/plain": [
       "37.37241638481774"
      ]
     },
     "execution_count": 14,
     "metadata": {},
     "output_type": "execute_result"
    }
   ],
   "source": [
    "np.mean(width)"
   ]
  },
  {
   "cell_type": "code",
   "execution_count": 15,
   "metadata": {
    "collapsed": false
   },
   "outputs": [
    {
     "data": {
      "text/plain": [
       "33.288237504697484"
      ]
     },
     "execution_count": 15,
     "metadata": {},
     "output_type": "execute_result"
    }
   ],
   "source": [
    "np.mean(height)"
   ]
  },
  {
   "cell_type": "code",
   "execution_count": 16,
   "metadata": {
    "collapsed": false
   },
   "outputs": [
    {
     "data": {
      "text/plain": [
       "(array([  39.,  181.,  467.,  649.,  404.,  319.,  233.,  138.,   57.,\n",
       "          57.,   31.,   19.,    9.,    8.,    3.,    9.,    4.,    3.,\n",
       "           6.,    3.,    1.,    1.,    2.,    1.,    2.,    2.,    4.,\n",
       "           1.,    2.,    0.,    0.,    1.,    0.,    0.,    0.,    1.,\n",
       "           0.,    1.,    0.,    0.,    0.,    1.,    0.,    0.,    0.,\n",
       "           0.,    0.,    0.,    1.,    1.]),\n",
       " array([   8.  ,   13.26,   18.52,   23.78,   29.04,   34.3 ,   39.56,\n",
       "          44.82,   50.08,   55.34,   60.6 ,   65.86,   71.12,   76.38,\n",
       "          81.64,   86.9 ,   92.16,   97.42,  102.68,  107.94,  113.2 ,\n",
       "         118.46,  123.72,  128.98,  134.24,  139.5 ,  144.76,  150.02,\n",
       "         155.28,  160.54,  165.8 ,  171.06,  176.32,  181.58,  186.84,\n",
       "         192.1 ,  197.36,  202.62,  207.88,  213.14,  218.4 ,  223.66,\n",
       "         228.92,  234.18,  239.44,  244.7 ,  249.96,  255.22,  260.48,\n",
       "         265.74,  271.  ]),\n",
       " <a list of 50 Patch objects>)"
      ]
     },
     "execution_count": 16,
     "metadata": {},
     "output_type": "execute_result"
    },
    {
     "data": {
      "image/png": "[encoded data removed]",
      "text/plain": [
       "<matplotlib.figure.Figure at 0x7f144efc92e8>"
      ]
     },
     "metadata": {},
     "output_type": "display_data"
    }
   ],
   "source": [
    "plt.hist(height, 50)"
   ]
  },
  {
   "cell_type": "code",
   "execution_count": 17,
   "metadata": {
    "collapsed": false
   },
   "outputs": [
    {
     "data": {
      "text/plain": [
       "(array([  30.,  219.,  460.,  554.,  467.,  340.,  212.,  127.,   77.,\n",
       "          48.,   29.,   18.,   16.,   11.,    9.,    7.,    7.,    3.,\n",
       "           3.,    4.,    3.,    0.,    3.,    3.,    1.,    1.,    2.,\n",
       "           1.,    0.,    1.,    0.,    1.,    0.,    1.,    0.,    0.,\n",
       "           0.,    1.,    0.,    0.,    0.,    0.,    1.,    0.,    0.,\n",
       "           0.,    0.,    0.,    0.,    1.]),\n",
       " array([   9.,   15.,   21.,   27.,   33.,   39.,   45.,   51.,   57.,\n",
       "          63.,   69.,   75.,   81.,   87.,   93.,   99.,  105.,  111.,\n",
       "         117.,  123.,  129.,  135.,  141.,  147.,  153.,  159.,  165.,\n",
       "         171.,  177.,  183.,  189.,  195.,  201.,  207.,  213.,  219.,\n",
       "         225.,  231.,  237.,  243.,  249.,  255.,  261.,  267.,  273.,\n",
       "         279.,  285.,  291.,  297.,  303.,  309.]),\n",
       " <a list of 50 Patch objects>)"
      ]
     },
     "execution_count": 17,
     "metadata": {},
     "output_type": "execute_result"
    },
    {
     "data": {
      "image/png": "[encoded data removed]",
      "text/plain": [
       "<matplotlib.figure.Figure at 0x7f144eea3c50>"
      ]
     },
     "metadata": {},
     "output_type": "display_data"
    }
   ],
   "source": [
    "plt.hist(width, 50)"
   ]
  },
  {
   "cell_type": "code",
   "execution_count": 18,
   "metadata": {
    "collapsed": false
   },
   "outputs": [],
   "source": [
    "# img_file = xml_file[:-3] + 'JPG'\n",
    "# img = cv2.imread(DATA_PATH + img_file)"
   ]
  },
  {
   "cell_type": "code",
   "execution_count": 19,
   "metadata": {
    "collapsed": false
   },
   "outputs": [],
   "source": [
    "def relu(x):\n",
    "    return max(x,0)\n",
    "\n",
    "def get_object_list(xml_file):\n",
    "    tree = ET.parse(DATA_PATH+xml_file)\n",
    "    root = tree.getroot()\n",
    "    object_list = []\n",
    "    for item in root:\n",
    "        if item.tag == 'object' and item[0].text in ['0','1']:\n",
    "            object_list.append(item)\n",
    "    return object_list\n",
    "\n",
    "def notate_a_img(filename):\n",
    "    jpg_file = DATA_PATH + filename + '.JPG'\n",
    "    object_list = get_object_list(filename+'.xml')\n",
    "    img = cv2.imread(jpg_file)\n",
    "    for item in object_list:\n",
    "        for it in item:\n",
    "            if it.tag == 'bndbox':\n",
    "                cv2.rectangle(img, (relu(int(it[0].text)-20), relu(int(it[1].text)-20)),\\\n",
    "                                    (int(it[2].text)+20, int(it[3].text)+20), (0, 0, 255))\n",
    "    cv2.imwrite(OUTPUT_PATH + 'test.JPG', img)"
   ]
  },
  {
   "cell_type": "code",
   "execution_count": 20,
   "metadata": {
    "collapsed": false
   },
   "outputs": [
    {
     "ename": "NameError",
     "evalue": "name 'img' is not defined",
     "output_type": "error",
     "traceback": [
      "\u001b[0;31m---------------------------------------------------------------------------\u001b[0m",
      "\u001b[0;31mNameError\u001b[0m                                 Traceback (most recent call last)",
      "\u001b[0;32m<ipython-input-20-1290d8bcb0c0>\u001b[0m in \u001b[0;36m<module>\u001b[0;34m()\u001b[0m\n\u001b[0;32m----> 1\u001b[0;31m \u001b[0mcv2\u001b[0m\u001b[0;34m.\u001b[0m\u001b[0mimwrite\u001b[0m\u001b[0;34m(\u001b[0m\u001b[0mOUTPUT_PATH\u001b[0m \u001b[0;34m+\u001b[0m \u001b[0;34m'test.JPG'\u001b[0m\u001b[0;34m,\u001b[0m \u001b[0mimg\u001b[0m\u001b[0;34m[\u001b[0m\u001b[0;34m:\u001b[0m\u001b[0;36m5000\u001b[0m\u001b[0;34m,\u001b[0m\u001b[0;34m:\u001b[0m\u001b[0;36m5000\u001b[0m\u001b[0;34m,\u001b[0m\u001b[0;34m:\u001b[0m\u001b[0;34m]\u001b[0m\u001b[0;34m)\u001b[0m\u001b[0;34m\u001b[0m\u001b[0m\n\u001b[0m\u001b[1;32m      2\u001b[0m \u001b[0mcv2\u001b[0m\u001b[0;34m.\u001b[0m\u001b[0mimwrite\u001b[0m\u001b[0;34m(\u001b[0m\u001b[0mOUTPUT_PATH\u001b[0m \u001b[0;34m+\u001b[0m \u001b[0;34m'origin.JPG'\u001b[0m\u001b[0;34m,\u001b[0m \u001b[0mimg\u001b[0m\u001b[0;34m)\u001b[0m\u001b[0;34m\u001b[0m\u001b[0m\n",
      "\u001b[0;31mNameError\u001b[0m: name 'img' is not defined"
     ]
    }
   ],
   "source": [
    "cv2.imwrite(OUTPUT_PATH + 'test.JPG', img[:5000,:5000,:])\n",
    "cv2.imwrite(OUTPUT_PATH + 'origin.JPG', img)"
   ]
  },
  {
   "cell_type": "code",
   "execution_count": 22,
   "metadata": {
    "collapsed": true
   },
   "outputs": [],
   "source": [
    "def get_bndbox(ob, width=float('inf'), height=float('inf')):\n",
    "    bndbox = ob.find('bndbox')\n",
    "    ob_xmin = relu(int(bndbox.find('xmin').text) - 20)\n",
    "    ob_ymin = relu(int(bndbox.find('ymin').text) - 20)\n",
    "    ob_xmax = min(int(bndbox.find('xmax').text) + 20, width)\n",
    "    ob_ymax = min(int(bndbox.find('ymax').text) + 20, height)\n",
    "    return ob_xmin, ob_ymin, ob_xmax, ob_ymax\n",
    "\n",
    "def random_crop(width, height, ob_box):\n",
    "    left_closer_to_boundary = ob_box[0] <= (width - ob_box[2])\n",
    "    up_closer_to_boundary = ob_box[1] <= (height - ob_box[3])\n",
    "    if left_closer_to_boundary:\n",
    "        xmin = max(ob_box[0] - np.random.choice(np.arange(448-(ob_box[2] - ob_box[0]))), 0)\n",
    "        xmax = xmin + 448\n",
    "    else:\n",
    "        xmax = min(ob_box[2] + np.random.choice(np.arange(448-(ob_box[2] - ob_box[0]))), width)\n",
    "        xmin = xmax - 448\n",
    "    if up_closer_to_boundary:\n",
    "        ymin = max(ob_box[1] - np.random.choice(np.arange(448-(ob_box[3] - ob_box[1]))), 0)\n",
    "        ymax = ymin + 448\n",
    "    else:\n",
    "        ymax = min(ob_box[3] + np.random.choice(np.arange(448-(ob_box[3] - ob_box[1]))), height)\n",
    "        ymin = ymax - 448\n",
    "    return xmin, ymin, xmax, ymax\n",
    "\n",
    "def iou(boxes1, boxes2):\n",
    "    lu = np.maximum(boxes1[0:2], boxes2[0:2])\n",
    "    rd = np.minimum(boxes1[2:], boxes2[2:])\n",
    "    intersection = np.maximum(rd - lu, [0,0])\n",
    "    inter_square = intersection[0]*intersection[1]\n",
    "    square1 = (boxes1[2]-boxes1[0]) * (boxes1[3] - boxes1[1])\n",
    "    square2 = (boxes2[2]-boxes2[0]) * (boxes2[3] - boxes2[1])\n",
    "    return inter_square / (square1 + square2 + 1e-5 - inter_square)\n",
    "\n",
    "def include_ratio(crop, ob_box):\n",
    "    lu = np.maximum(crop[0:2], ob_box[0:2])\n",
    "    rd = np.minimum(crop[2:], ob_box[2:])\n",
    "    intersection = np.maximum(rd - lu, [0,0])\n",
    "    inter_square = intersection[0]*intersection[1]\n",
    "    square_ob = (ob_box[2]-ob_box[0]) * (ob_box[3] - ob_box[1])\n",
    "    return inter_square / (square_ob + 1e-5)\n",
    "\n",
    "def find_all_objects_in_a_crop(crop, object_list, width, height, include_threshold=0.7):\n",
    "    # @param width: original image width\n",
    "    # @param height: original image height\n",
    "    obs_str = ''\n",
    "    for ob in object_list:\n",
    "        ob_box = get_bndbox(ob, width, height)\n",
    "        if include_ratio(crop, ob_box) > include_threshold:\n",
    "            obs_str += ' ' + str(max(ob_box[0] - crop[0], 0))\n",
    "            obs_str += ' ' + str(max(ob_box[1] - crop[1], 0))\n",
    "            obs_str += ' ' + str(min(ob_box[2] - crop[0], crop[2]))\n",
    "            obs_str += ' ' + str(min(ob_box[3] - crop[1], crop[3]))\n",
    "            obs_str += ' ' + ob[0].text\n",
    "    obs_str += '\\n'\n",
    "    return obs_str\n",
    "    \n",
    "def get_crops(ob, img, object_list, num_crops=2):\n",
    "    width, height = img.shape[1], img.shape[0]\n",
    "    ob_box = get_bndbox(ob, width, height)\n",
    "    if max(ob_box[2]-ob_box[0], ob_box[3] - ob_box[1]) > 300:\n",
    "        return [], []\n",
    "    crop_imgs_list = []\n",
    "    label_str_list = []\n",
    "    for i in range(num_crops):\n",
    "        crop = random_crop(width, height, ob_box)\n",
    "        label_str = find_all_objects_in_a_crop(crop, object_list, width, height)\n",
    "        label_str_list.append(label_str)\n",
    "        crop_imgs_list.append(img[crop[1]:crop[3], crop[0]:crop[2]])\n",
    "    return crop_imgs_list, label_str_list\n",
    "\n",
    "def process_a_file(filename, num_crops=2, train_data=True):\n",
    "    post = 'train/' if train_data else 'test/'\n",
    "    xml_file = DATA_PATH + filename + '.xml'\n",
    "    jpg_file = DATA_PATH + filename + '.JPG'\n",
    "    out_filename = OUTPUT_PATH + 'train_label.txt' if train_data else OUTPUT_PATH + 'test_label.txt'\n",
    "    out_file = open(out_filename, 'a')\n",
    "    tree = ET.parse(xml_file)\n",
    "    root = tree.getroot()\n",
    "    object_list = []\n",
    "    for item in root:\n",
    "        if item.tag == 'object' and item[0].text in ['0','1']:\n",
    "            object_list.append(item)\n",
    "    img = cv2.imread(jpg_file)\n",
    "    for k, ob in enumerate(object_list):\n",
    "        crop_imgs_list, label_str_list = get_crops(ob, img, object_list, num_crops)\n",
    "        for i, crop in enumerate(crop_imgs_list):\n",
    "            crop_name = OUTPUT_PATH + post + filename + '_ob{}_crop{}.JPG'.format(k, i)\n",
    "            cv2.imwrite(crop_name, crop)\n",
    "            record = crop_name + label_str_list[i]\n",
    "            out_file.write(record)\n",
    "    out_file.close()\n",
    "    print('successfully crop all images')\n",
    "    return 1"
   ]
  },
  {
   "cell_type": "code",
   "execution_count": 93,
   "metadata": {
    "collapsed": false
   },
   "outputs": [
    {
     "name": "stdout",
     "output_type": "stream",
     "text": [
      "successfully crop all images\n"
     ]
    },
    {
     "data": {
      "text/plain": [
       "1"
      ]
     },
     "execution_count": 93,
     "metadata": {},
     "output_type": "execute_result"
    }
   ],
   "source": [
    "process_a_file(img_file[:-4], num_crops=2, train_data=True)"
   ]
  },
  {
   "cell_type": "code",
   "execution_count": 23,
   "metadata": {
    "collapsed": true
   },
   "outputs": [],
   "source": [
    "def get_object_list_from_label_txt(label_file, jpg_file):\n",
    "    with open(label_file, 'r') as f:\n",
    "        content = f.readlines()\n",
    "        object_list = []\n",
    "        for string in content:\n",
    "            if string.startswith(jpg_file):\n",
    "                string = string.strip(jpg_file).strip(' ').strip('\\n')\n",
    "                numbers = string.split(' ')\n",
    "                for i in range(len(numbers)//5):\n",
    "                    temp = []\n",
    "                    for j in range(5):\n",
    "                        temp.append(int(numbers[5*i+j]))\n",
    "                    object_list.append(temp)\n",
    "                return object_list\n",
    "        print(\"can't find records of {}\".format(jpg_file))\n",
    "        return None"
   ]
  },
  {
   "cell_type": "code",
   "execution_count": 33,
   "metadata": {
    "collapsed": false
   },
   "outputs": [
    {
     "data": {
      "text/plain": [
       "[[159, 11, 240, 87, 1], [18, 376, 107, 448, 0]]"
      ]
     },
     "execution_count": 33,
     "metadata": {},
     "output_type": "execute_result"
    }
   ],
   "source": [
    "label_file = OUTPUT_PATH + 'train_label.txt'\n",
    "jpg_file = '/home/rui/tensorflow-yolo/data/processed_data/train/D1019020189_ob1_crop1.JPG'\n",
    "get_object_list_from_label_txt(label_file, jpg_file)"
   ]
  },
  {
   "cell_type": "code",
   "execution_count": 24,
   "metadata": {
    "collapsed": true
   },
   "outputs": [],
   "source": [
    "def get_object_list_from_label_txt(label_file, jpg_file):\n",
    "    with open(label_file, 'r') as f:\n",
    "        content = f.readlines()\n",
    "        object_list = []\n",
    "        for string in content:\n",
    "            if string.startswith(jpg_file):\n",
    "                string = string.strip(jpg_file).strip(' ').strip('\\n')\n",
    "                numbers = string.split(' ')\n",
    "                for i in range(len(numbers)//5):\n",
    "                    temp = []\n",
    "                    for j in range(5):\n",
    "                        temp.append(int(numbers[5*i+j]))\n",
    "                    object_list.append(temp)\n",
    "                return object_list\n",
    "        print(\"can't find records of {}\".format(jpg_file))\n",
    "        return None\n",
    "        \n",
    "\n",
    "def notate_a_crop(jpg_file, label_txt='train_label.txt'):\n",
    "    label_file = OUTPUT_PATH + label_txt\n",
    "    object_list = get_object_list_from_label_txt(label_file, jpg_file)\n",
    "    img = cv2.imread(jpg_file)\n",
    "    for item in object_list:\n",
    "        if item[4] == 1:\n",
    "            cv2.rectangle(img, (item[0], item[1]), (item[2], item[3]), (0, 0, 255))\n",
    "        else:\n",
    "            cv2.rectangle(img, (item[0], item[1]), (item[2], item[3]), (255, 0, 0))\n",
    "    sub_name = jpg_file.split('/')[-1]\n",
    "    cv2.imwrite(OUTPUT_PATH + 'notated_crop/'+sub_name, img)"
   ]
  },
  {
   "cell_type": "code",
   "execution_count": 36,
   "metadata": {
    "collapsed": false
   },
   "outputs": [
    {
     "data": {
      "text/plain": [
       "0.5760929792670608"
      ]
     },
     "execution_count": 36,
     "metadata": {},
     "output_type": "execute_result"
    }
   ],
   "source": [
    "np.random.rand()"
   ]
  },
  {
   "cell_type": "code",
   "execution_count": 25,
   "metadata": {
    "collapsed": false
   },
   "outputs": [
    {
     "name": "stdout",
     "output_type": "stream",
     "text": [
      "successfully crop all images\n",
      "successfully crop all images\n",
      "successfully crop all images\n",
      "successfully crop all images\n",
      "successfully crop all images\n",
      "successfully crop all images\n",
      "successfully crop all images\n",
      "successfully crop all images\n",
      "successfully crop all images\n",
      "successfully crop all images\n",
      "successfully crop all images\n",
      "successfully crop all images\n",
      "successfully crop all images\n",
      "successfully crop all images\n",
      "successfully crop all images\n",
      "successfully crop all images\n",
      "successfully crop all images\n",
      "successfully crop all images\n",
      "successfully crop all images\n",
      "successfully crop all images\n",
      "successfully crop all images\n",
      "successfully crop all images\n",
      "successfully crop all images\n",
      "successfully crop all images\n",
      "successfully crop all images\n",
      "successfully crop all images\n",
      "successfully crop all images\n",
      "successfully crop all images\n",
      "successfully crop all images\n",
      "successfully crop all images\n"
     ]
    }
   ],
   "source": [
    "for xml_file in xml_list[:-5]:\n",
    "    filename = xml_file[:-4]\n",
    "    process_a_file(filename)\n",
    "crop_list = [i for i in os.listdir(OUTPUT_PATH+'train/') if i[-3:]=='JPG']\n",
    "for jpg_file in crop_list:\n",
    "    if np.random.rand() > 0.01:\n",
    "        continue\n",
    "    else:\n",
    "        jpg_file = OUTPUT_PATH + 'train/' + jpg_file\n",
    "        notate_a_crop(jpg_file)"
   ]
  },
  {
   "cell_type": "code",
   "execution_count": 26,
   "metadata": {
    "collapsed": false
   },
   "outputs": [
    {
     "name": "stdout",
     "output_type": "stream",
     "text": [
      "successfully crop all images\n",
      "successfully crop all images\n",
      "successfully crop all images\n",
      "successfully crop all images\n",
      "successfully crop all images\n"
     ]
    }
   ],
   "source": [
    "for xml_file in xml_list[-5:]:\n",
    "    filename = xml_file[:-4]\n",
    "    process_a_file(filename, train_data=False)"
   ]
  },
  {
   "cell_type": "code",
   "execution_count": null,
   "metadata": {
    "collapsed": true
   },
   "outputs": [],
   "source": []
  }
 ],
 "metadata": {
  "kernelspec": {
   "display_name": "Python 3",
   "language": "python",
   "name": "python3"
  },
  "language_info": {
   "codemirror_mode": {
    "name": "ipython",
    "version": 3
   },
   "file_extension": ".py",
   "mimetype": "text/x-python",
   "name": "python",
   "nbconvert_exporter": "python",
   "pygments_lexer": "ipython3",
   "version": "3.5.2"
  }
 },
 "nbformat": 4,
 "nbformat_minor": 1
}
