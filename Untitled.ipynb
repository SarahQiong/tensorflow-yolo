{
 "cells": [
  {
   "cell_type": "code",
   "execution_count": 1,
   "metadata": {
    "collapsed": true
   },
   "outputs": [],
   "source": [
    "import sys\n",
    "sys.path.append('./')\n",
    "import tensorflow as tf\n",
    "import matplotlib\n",
    "#matplotlib.use('Agg')\n",
    "import matplotlib.pyplot as plt\n",
    "import numpy as np\n",
    "import cv2\n",
    "from yolo.net.yolo_net import YoloNet\n",
    "from yolo.dataset.text_dataset import TextDataSet\n",
    "from demo import *\n",
    "# in total we have 714 test images\n",
    "\n",
    "class TextDataSetV2(TextDataSet):\n",
    "    def __init__(self, common_params, dataset_params):\n",
    "        super(TextDataSetV2, self).__init__(common_parameters, dataset_params)\n",
    "    def record_process(self, record):\n",
    "        image = cv2.imread(record[0])\n",
    "        image = cv2.cvtColor(image, cv2.COLOR_BGR2RGB)\n",
    "        image = cv2.resize(image, (self.height, self.width))\n",
    "        labels = [[0, 0, 0, 0, 0]] * self.max_objects\n",
    "        i = 1\n",
    "        object_num = 0\n",
    "        while i < len(record):\n",
    "            xmin = record[i]\n",
    "            ymin = record[i + 1]\n",
    "            xmax = record[i + 2]\n",
    "            ymax = record[i + 3]\n",
    "            class_num = record[i + 4]\n",
    "            labels[object_num] = [xmin, ymin, xmax, ymax, class_num]\n",
    "            object_num += 1\n",
    "            i += 5\n",
    "            if object_num >= self.max_objects:\n",
    "                break\n",
    "        return [image, labels, object_num]\n",
    "\n",
    "common_parameters = {'image_size': 448, 'batch_size': 16,\\\n",
    "    'num_classes': 2, 'max_objects_per_image': 10}\n",
    "dataset_parameters = {'path': 'data/processed_data/test_label.txt', 'thread_num': 5}\n",
    "dataset =  TextDataSetV2(common_parameters, dataset_parameters)\n",
    "classes_name = ['bare soil', 'dead tree']\n",
    "net_params = {'cell_size': 7, 'boxes_per_cell':2, 'weight_decay': 0.0005}\n",
    "batch_size = common_parameters['batch_size']\n",
    "net = YoloNet(common_parameters, net_params, test=True)\n",
    "image = tf.placeholder(tf.float32, (None, 448, 448, 3))\n",
    "predicts = net.inference(image)\n",
    "sess = tf.Session()\n",
    "saver = tf.train.Saver(net.trainable_collection)\n",
    "ckpt = tf.train.get_checkpoint_state('models/train/backup_full_model/')\n",
    "saver.restore(sess,ckpt.model_checkpoint_path)\n",
    "num_imgs = 714 // batch_size * batch_size\n",
    "predicted_boxes = np.zeros((num_imgs, net_params['cell_size'], net_params['cell_size'], \\\n",
    "    12), dtype=np.float32)\n",
    "ground_truth_boxes = []\n",
    "for i in range(714 // batch_size):\n",
    "    images, labels, objects_num = dataset.batch()\n",
    "    np_predict = sess.run(predicts, feed_dict={image: images})\n",
    "    assert np_predict.shape[-1] == 12\n",
    "    predicted_boxes[i * batch_size:(i+1) * batch_size] = np_predict\n",
    "    labels = list(labels)\n",
    "    for i in range(batch_size):\n",
    "        temp = labels[i][:objects_num[i],:]\n",
    "        ground_truth_boxes.append(temp[temp[:,4]==0]) # only consider boxes for dead tree class\n"
   ]
  },
  {
   "cell_type": "code",
   "execution_count": 2,
   "metadata": {},
   "outputs": [
    {
     "data": {
      "text/plain": [
       "array([[ 257.,  350.,  329.,  414.,    0.],\n",
       "       [ 303.,   44.,  363.,  104.,    0.]], dtype=float32)"
      ]
     },
     "execution_count": 2,
     "metadata": {},
     "output_type": "execute_result"
    }
   ],
   "source": [
    "ground_truth_boxes[4]"
   ]
  },
  {
   "cell_type": "code",
   "execution_count": 3,
   "metadata": {},
   "outputs": [],
   "source": [
    "predicted_result = process_predicts(predicted_boxes[4], 0.0001)"
   ]
  },
  {
   "cell_type": "code",
   "execution_count": 4,
   "metadata": {
    "collapsed": true
   },
   "outputs": [],
   "source": [
    "predicts = predicted_boxes[4:5]\n",
    "C = predicts[0, :, :, 2:4]"
   ]
  },
  {
   "cell_type": "code",
   "execution_count": 5,
   "metadata": {},
   "outputs": [
    {
     "data": {
      "text/plain": [
       "array([[[  3.58983606e-01,   4.86717790e-01,   9.19038802e-03,\n",
       "           0.00000000e+00],\n",
       "        [  3.57985765e-01,   4.82271135e-01,   1.33060210e-03,\n",
       "           2.31138198e-04],\n",
       "        [  3.48111570e-01,   4.84337628e-01,   1.28533747e-02,\n",
       "           1.63886114e-04],\n",
       "        [  3.78864646e-01,   4.63294506e-01,   0.00000000e+00,\n",
       "           0.00000000e+00],\n",
       "        [  3.24132264e-01,   5.36560535e-01,   1.09498687e-02,\n",
       "           1.63919781e-03],\n",
       "        [  3.80979955e-01,   5.03215432e-01,   0.00000000e+00,\n",
       "           3.16128433e-02],\n",
       "        [  4.01057065e-01,   4.46527839e-01,   7.24429172e-03,\n",
       "           1.96095440e-03]],\n",
       "\n",
       "       [[  3.81379575e-01,   4.62050974e-01,   2.58474844e-03,\n",
       "           0.00000000e+00],\n",
       "        [  3.59335005e-01,   4.77356195e-01,   1.64785911e-03,\n",
       "           5.81873953e-03],\n",
       "        [  4.23288345e-01,   4.51452732e-01,   0.00000000e+00,\n",
       "           0.00000000e+00],\n",
       "        [  4.09359455e-01,   4.52149510e-01,   0.00000000e+00,\n",
       "           0.00000000e+00],\n",
       "        [  4.05223966e-01,   4.50871825e-01,   0.00000000e+00,\n",
       "           0.00000000e+00],\n",
       "        [  3.96466404e-01,   4.87572610e-01,   1.28953950e-04,\n",
       "           3.76728512e-02],\n",
       "        [  4.65063334e-01,   4.01281565e-01,   0.00000000e+00,\n",
       "           1.58701045e-03]],\n",
       "\n",
       "       [[  4.02605385e-01,   4.42912698e-01,   0.00000000e+00,\n",
       "           0.00000000e+00],\n",
       "        [  4.42422986e-01,   4.23644036e-01,   0.00000000e+00,\n",
       "           1.51900109e-03],\n",
       "        [  4.00761902e-01,   4.46304649e-01,   0.00000000e+00,\n",
       "           1.05201243e-03],\n",
       "        [  4.17848080e-01,   4.56854194e-01,   4.77649271e-04,\n",
       "           0.00000000e+00],\n",
       "        [  4.15766358e-01,   4.47822392e-01,   1.83887128e-02,\n",
       "           0.00000000e+00],\n",
       "        [  4.10450220e-01,   4.62910116e-01,   0.00000000e+00,\n",
       "           0.00000000e+00],\n",
       "        [  3.91302615e-01,   4.64244664e-01,   2.87525269e-04,\n",
       "           3.19163175e-03]],\n",
       "\n",
       "       [[  4.30861831e-01,   4.20602322e-01,   0.00000000e+00,\n",
       "           1.40337576e-03],\n",
       "        [  3.97452593e-01,   4.34517264e-01,   0.00000000e+00,\n",
       "           0.00000000e+00],\n",
       "        [  4.96061653e-01,   3.55297327e-01,   1.41217206e-02,\n",
       "           0.00000000e+00],\n",
       "        [  3.89997005e-01,   4.81494427e-01,   0.00000000e+00,\n",
       "           0.00000000e+00],\n",
       "        [  3.85181159e-01,   5.13607204e-01,   6.01670444e-02,\n",
       "           0.00000000e+00],\n",
       "        [  4.24663633e-01,   4.65572596e-01,   0.00000000e+00,\n",
       "           5.50041310e-02],\n",
       "        [  3.79429758e-01,   4.57476258e-01,   0.00000000e+00,\n",
       "           0.00000000e+00]],\n",
       "\n",
       "       [[  4.17968899e-01,   4.41547602e-01,   0.00000000e+00,\n",
       "           1.86705813e-02],\n",
       "        [  4.16335344e-01,   4.57751304e-01,   6.19070977e-03,\n",
       "           0.00000000e+00],\n",
       "        [  3.89409184e-01,   4.84653383e-01,   4.31822240e-03,\n",
       "           0.00000000e+00],\n",
       "        [  3.89183640e-01,   4.59205627e-01,   2.28168746e-03,\n",
       "           7.54399598e-03],\n",
       "        [  3.64742458e-01,   5.18463254e-01,   0.00000000e+00,\n",
       "           0.00000000e+00],\n",
       "        [  3.70418966e-01,   5.15211940e-01,   0.00000000e+00,\n",
       "           0.00000000e+00],\n",
       "        [  3.80189359e-01,   4.54325229e-01,   0.00000000e+00,\n",
       "           9.52944509e-04]],\n",
       "\n",
       "       [[  3.24841619e-01,   5.07103443e-01,   0.00000000e+00,\n",
       "           0.00000000e+00],\n",
       "        [  2.99221873e-01,   5.41896820e-01,   8.86674039e-04,\n",
       "           1.30858505e-03],\n",
       "        [  3.70725423e-01,   4.91565853e-01,   1.63392117e-03,\n",
       "           0.00000000e+00],\n",
       "        [  3.81956726e-01,   4.72410619e-01,   0.00000000e+00,\n",
       "           0.00000000e+00],\n",
       "        [  3.49585831e-01,   5.48500419e-01,   1.74209744e-01,\n",
       "           1.41146732e-03],\n",
       "        [  2.88851202e-01,   5.85561931e-01,   0.00000000e+00,\n",
       "           0.00000000e+00],\n",
       "        [  3.54515076e-01,   5.17334521e-01,   0.00000000e+00,\n",
       "           1.22205475e-02]],\n",
       "\n",
       "       [[  3.20458531e-01,   4.92750704e-01,   0.00000000e+00,\n",
       "           2.47894670e-04],\n",
       "        [  3.70644748e-01,   4.55631852e-01,   0.00000000e+00,\n",
       "           0.00000000e+00],\n",
       "        [  3.06740582e-01,   5.28955221e-01,   0.00000000e+00,\n",
       "           6.96605584e-03],\n",
       "        [  3.44360620e-01,   5.16880512e-01,   8.96508340e-03,\n",
       "           5.82312793e-03],\n",
       "        [  3.56939852e-01,   5.36515117e-01,   3.64134200e-02,\n",
       "           4.04890999e-03],\n",
       "        [  2.93224573e-01,   6.02226138e-01,   2.18062162e-01,\n",
       "           6.08332455e-04],\n",
       "        [  3.75074983e-01,   4.57583964e-01,   6.25490025e-03,\n",
       "           0.00000000e+00]]], dtype=float32)"
      ]
     },
     "execution_count": 5,
     "metadata": {},
     "output_type": "execute_result"
    }
   ],
   "source": [
    "predicts[0, :, :, 0:4]"
   ]
  },
  {
   "cell_type": "code",
   "execution_count": null,
   "metadata": {
    "collapsed": true
   },
   "outputs": [],
   "source": []
  }
 ],
 "metadata": {
  "kernelspec": {
   "display_name": "Python 3",
   "language": "python",
   "name": "python3"
  },
  "language_info": {
   "codemirror_mode": {
    "name": "ipython",
    "version": 3
   },
   "file_extension": ".py",
   "mimetype": "text/x-python",
   "name": "python",
   "nbconvert_exporter": "python",
   "pygments_lexer": "ipython3",
   "version": "3.5.2"
  }
 },
 "nbformat": 4,
 "nbformat_minor": 1
}
